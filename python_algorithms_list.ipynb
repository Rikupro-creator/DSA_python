{
  "nbformat": 4,
  "nbformat_minor": 0,
  "metadata": {
    "colab": {
      "provenance": [],
      "authorship_tag": "ABX9TyNIJJEsr38bRaH+4m097/Wv",
      "include_colab_link": true
    },
    "kernelspec": {
      "name": "python3",
      "display_name": "Python 3"
    },
    "language_info": {
      "name": "python"
    }
  },
  "cells": [
    {
      "cell_type": "markdown",
      "metadata": {
        "id": "view-in-github",
        "colab_type": "text"
      },
      "source": [
        "<a href=\"https://colab.research.google.com/github/Rikupro-creator/DSA_python/blob/main/python_algorithms_list.ipynb\" target=\"_parent\"><img src=\"https://colab.research.google.com/assets/colab-badge.svg\" alt=\"Open In Colab\"/></a>"
      ]
    },
    {
      "cell_type": "markdown",
      "source": [
        "Given a list, write a Python program to swap first and last element of the list.\n",
        "\n",
        "Examples:\n",
        "\n",
        "Input : [12, 35, 9, 56, 24] Output : [24, 35, 9, 56, 12] Input : [1, 2, 3] Output : [3, 2, 1]"
      ],
      "metadata": {
        "id": "1rpisekd8coJ"
      }
    },
    {
      "cell_type": "code",
      "source": [
        "lst=[12,35,9,56,24]\n",
        "first, * somenumbers, last=lst\n",
        "# now lets change the list to the last number\n",
        "lst1=last, *somenumbers, first\n",
        "print(lst1)"
      ],
      "metadata": {
        "colab": {
          "base_uri": "https://localhost:8080/"
        },
        "id": "YmgzMUO59stI",
        "outputId": "dc8befc9-a1f0-4278-8374-625e59dedbbb"
      },
      "execution_count": 3,
      "outputs": [
        {
          "output_type": "stream",
          "name": "stdout",
          "text": [
            "(24, 35, 9, 56, 12)\n"
          ]
        }
      ]
    },
    {
      "cell_type": "code",
      "source": [
        "# lets try with another approach\n",
        "# lets copy the list\n",
        "lst_copy=lst.copy()\n",
        "lst_copy[-1], lst_copy[0]=lst_copy[0],lst_copy[-1]\n",
        "print(lst_copy)"
      ],
      "metadata": {
        "colab": {
          "base_uri": "https://localhost:8080/"
        },
        "id": "eMTOFAWX-J36",
        "outputId": "69a2334e-7cd0-452a-d53f-4ac083f1a285"
      },
      "execution_count": 4,
      "outputs": [
        {
          "output_type": "stream",
          "name": "stdout",
          "text": [
            "[24, 35, 9, 56, 12]\n"
          ]
        }
      ]
    },
    {
      "cell_type": "markdown",
      "source": [
        "Given a list in Python and provided the positions of the elements, write a program to swap the two elements in the list.\n",
        "\n",
        "Examples:  \n",
        "\n",
        "Input : List = [23, 65, 19, 90], pos1 = 1, pos2 = 3\n",
        "Output : [19, 65, 23, 90]\n",
        "\n",
        "Input : List = [1, 2, 3, 4, 5], pos1 = 2, pos2 = 5\n",
        "Output : [1, 5, 3, 4, 2]"
      ],
      "metadata": {
        "id": "VXnV8zdq-T35"
      }
    },
    {
      "cell_type": "code",
      "source": [
        "input_list=[23,65,19,90]\n",
        "\n",
        "# now we can use the previous approach\n",
        "\n",
        "input_list[3],input_list[1]=input_list[1], input_list[3]\n",
        "\n",
        "print(input_list)"
      ],
      "metadata": {
        "colab": {
          "base_uri": "https://localhost:8080/"
        },
        "id": "DGaw34X3_iWO",
        "outputId": "7e1b9f51-7868-4a54-efa7-1a44ca5453c4"
      },
      "execution_count": 5,
      "outputs": [
        {
          "output_type": "stream",
          "name": "stdout",
          "text": [
            "[23, 90, 19, 65]\n"
          ]
        }
      ]
    },
    {
      "cell_type": "code",
      "source": [
        "# just a trial to find the length of a list\n",
        "sum(1 for i in input_list)"
      ],
      "metadata": {
        "colab": {
          "base_uri": "https://localhost:8080/"
        },
        "id": "MLvGwKE1AAh-",
        "outputId": "e2acb43c-031b-4434-bae5-ce056d5a555e"
      },
      "execution_count": 7,
      "outputs": [
        {
          "output_type": "execute_result",
          "data": {
            "text/plain": [
              "4"
            ]
          },
          "metadata": {},
          "execution_count": 7
        }
      ]
    },
    {
      "cell_type": "markdown",
      "source": [
        "Given two numbers, write a Python code to find the Maximum of these two numbers.\n",
        "\n",
        "Examples:\n",
        "\n",
        "Input: a = 2, b = 4\n",
        "Output: 4\n",
        "\n",
        "Input: a = -1, b = -4\n",
        "Output: -1"
      ],
      "metadata": {
        "id": "1bWPloJIA0U5"
      }
    },
    {
      "cell_type": "code",
      "source": [
        "# option 1\n",
        "a, b= 2,4\n",
        "def maximum(a,b):\n",
        "  return max(a, b)\n",
        "maximum(a,b)"
      ],
      "metadata": {
        "colab": {
          "base_uri": "https://localhost:8080/"
        },
        "id": "MitcvX6JBhZM",
        "outputId": "155e8e80-f350-48b0-c330-8d0e42a01690"
      },
      "execution_count": 8,
      "outputs": [
        {
          "output_type": "execute_result",
          "data": {
            "text/plain": [
              "4"
            ]
          },
          "metadata": {},
          "execution_count": 8
        }
      ]
    },
    {
      "cell_type": "code",
      "source": [
        "# option 2 using if statements\n",
        "def maximum2(a, b):\n",
        "  if a>=b:\n",
        "    return a\n",
        "  else:\n",
        "    return b\n",
        "maximum2(a, b)"
      ],
      "metadata": {
        "colab": {
          "base_uri": "https://localhost:8080/"
        },
        "id": "eUpNljxvByUv",
        "outputId": "d07f9a78-4a70-40bf-bd72-176fe9ebe225"
      },
      "execution_count": 10,
      "outputs": [
        {
          "output_type": "execute_result",
          "data": {
            "text/plain": [
              "4"
            ]
          },
          "metadata": {},
          "execution_count": 10
        }
      ]
    },
    {
      "cell_type": "code",
      "source": [
        "# option 3 using list comprehension\n",
        "\n",
        "def maximum3(a,b):\n",
        "  return [a if a>=b else b]\n",
        "maximum3(a, b)"
      ],
      "metadata": {
        "colab": {
          "base_uri": "https://localhost:8080/"
        },
        "id": "xSkr9b6WCLqu",
        "outputId": "d0718d37-c7ba-409c-9d69-ef5122c5b94c"
      },
      "execution_count": 11,
      "outputs": [
        {
          "output_type": "execute_result",
          "data": {
            "text/plain": [
              "[4]"
            ]
          },
          "metadata": {},
          "execution_count": 11
        }
      ]
    },
    {
      "cell_type": "code",
      "source": [
        "# using lambda- I had to refer this\n",
        "\n",
        "def maximum4(a,b):\n",
        "  maximum=lambda a,b:a if a>b else b\n",
        "  print(maximum)\n",
        "maximum4(a,b)"
      ],
      "metadata": {
        "colab": {
          "base_uri": "https://localhost:8080/"
        },
        "id": "-4D_0C5-Cj9u",
        "outputId": "c2a88cdc-961e-4039-d740-070e165798c2"
      },
      "execution_count": 14,
      "outputs": [
        {
          "output_type": "stream",
          "name": "stdout",
          "text": [
            "<function maximum4.<locals>.<lambda> at 0x7ebd7fdb40d0>\n"
          ]
        }
      ]
    },
    {
      "cell_type": "code",
      "source": [
        "# using sort\n",
        "def maximum5(a,b):\n",
        "  lst=[a,b]\n",
        "  lst.sort()\n",
        "  return lst[-1]\n",
        "maximum5(a,b)\n"
      ],
      "metadata": {
        "colab": {
          "base_uri": "https://localhost:8080/"
        },
        "id": "SQlv7mXRDyfE",
        "outputId": "756c655f-c008-4438-fcc2-e75c531183fb"
      },
      "execution_count": 17,
      "outputs": [
        {
          "output_type": "execute_result",
          "data": {
            "text/plain": [
              "4"
            ]
          },
          "metadata": {},
          "execution_count": 17
        }
      ]
    },
    {
      "cell_type": "code",
      "source": [],
      "metadata": {
        "id": "8hNAR4hkEWg4"
      },
      "execution_count": null,
      "outputs": []
    }
  ]
}